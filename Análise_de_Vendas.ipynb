{
  "nbformat": 4,
  "nbformat_minor": 0,
  "metadata": {
    "colab": {
      "provenance": [],
      "authorship_tag": "ABX9TyMuYzHTLdlirJd3DOjlc9cH",
      "include_colab_link": true
    },
    "kernelspec": {
      "name": "python3",
      "display_name": "Python 3"
    },
    "language_info": {
      "name": "python"
    }
  },
  "cells": [
    {
      "cell_type": "markdown",
      "metadata": {
        "id": "view-in-github",
        "colab_type": "text"
      },
      "source": [
        "<a href=\"https://colab.research.google.com/github/carloslopess/Anlise-Vendas/blob/main/An%C3%A1lise_de_Vendas.ipynb\" target=\"_parent\"><img src=\"https://colab.research.google.com/assets/colab-badge.svg\" alt=\"Open In Colab\"/></a>"
      ]
    },
    {
      "cell_type": "markdown",
      "source": [
        "# Contexto:\n",
        "\n",
        "Imagine que você tem dados de vendas de uma loja e deseja realizar análises para obter insights sobre o desempenho de vendas. Seu objetivo é extrair, transformar e carregar esses dados para uma análise posterior."
      ],
      "metadata": {
        "id": "2je9bTAmJu3V"
      }
    },
    {
      "cell_type": "code",
      "source": [
        "# Filtragem dos produtos por data"
      ],
      "metadata": {
        "id": "OG4hKZazKMdt"
      },
      "execution_count": null,
      "outputs": []
    },
    {
      "cell_type": "code",
      "source": [
        "import pandas as pd\n",
        "import requests\n",
        "\n",
        "data_frame = pd.read_csv('dados_de_vendas.csv')\n",
        "\n",
        "df = data_frame.sort_values(by=['Data', 'Produto'])\n",
        "\n",
        "print(df)"
      ],
      "metadata": {
        "colab": {
          "base_uri": "https://localhost:8080/"
        },
        "id": "pnRTFxk7s2Dc",
        "outputId": "d85caebe-06eb-4caf-e078-e9f87ea83d9a"
      },
      "execution_count": null,
      "outputs": [
        {
          "output_type": "stream",
          "name": "stdout",
          "text": [
            "          Data    Produto  Quantidade  Preço\n",
            "22  2022-01-01  Produto C          92  50.23\n",
            "4   2022-01-03  Produto A          80  68.65\n",
            "89  2022-01-08  Produto A          45  72.99\n",
            "2   2022-01-10  Produto B          32  94.12\n",
            "66  2022-01-12  Produto A          20  74.44\n",
            "..         ...        ...         ...    ...\n",
            "60  2022-12-15  Produto A          77  59.44\n",
            "73  2022-12-23  Produto A          45  72.54\n",
            "42  2022-12-25  Produto B          37  59.28\n",
            "96  2022-12-27  Produto B          40  29.29\n",
            "82  2022-12-29  Produto C          93  72.66\n",
            "\n",
            "[100 rows x 4 columns]\n"
          ]
        }
      ]
    },
    {
      "cell_type": "code",
      "source": [
        "#TODO Calcular a quantidade total de vendas por mes\n",
        "\n",
        "df['Data'] = pd.to_datetime(df['Data'])\n",
        "\n",
        "df['Mes'] = df['Data'].dt.strftime('%Y-%m')\n",
        "\n",
        "total_vendas_mensal = df.groupby('Mes')['Quantidade'].sum().reset_index()\n",
        "\n",
        "print(total_vendas_mensal)"
      ],
      "metadata": {
        "colab": {
          "base_uri": "https://localhost:8080/"
        },
        "id": "uOsBDI8staGH",
        "outputId": "051b711d-324d-4b87-c5db-4fa7e9d1b22e"
      },
      "execution_count": null,
      "outputs": [
        {
          "output_type": "stream",
          "name": "stdout",
          "text": [
            "        Mes  Quantidade\n",
            "0   2022-01         498\n",
            "1   2022-02         387\n",
            "2   2022-03         548\n",
            "3   2022-04         297\n",
            "4   2022-05          80\n",
            "5   2022-06         408\n",
            "6   2022-07         470\n",
            "7   2022-08         347\n",
            "8   2022-09         376\n",
            "9   2022-10         297\n",
            "10  2022-11         579\n",
            "11  2022-12         321\n"
          ]
        }
      ]
    },
    {
      "cell_type": "code",
      "source": [
        "#TODO calcular a media de preço de venda\n",
        "\n",
        "media_preco = df['Preço'].mean()\n",
        "\n",
        "print(f'A media de preco de venda e: R${media_preco:.2f}')"
      ],
      "metadata": {
        "colab": {
          "base_uri": "https://localhost:8080/"
        },
        "id": "67h9hyZG-oN2",
        "outputId": "490d7d4b-c38a-4520-8b16-b8aca971e6ea"
      },
      "execution_count": null,
      "outputs": [
        {
          "output_type": "stream",
          "name": "stdout",
          "text": [
            "A media de preco de venda e: R$52.16\n"
          ]
        }
      ]
    },
    {
      "cell_type": "code",
      "source": [
        "#TODO Identificar os produtos mais vendidos.\n",
        "\n",
        "produtos_mais_vendidos = df.groupby('Produto')['Quantidade'].sum().reset_index()\n",
        "\n",
        "produtos_mais_vendidos = produtos_mais_vendidos.sort_values(by='Quantidade', ascending=False)\n",
        "\n",
        "print(produtos_mais_vendidos)"
      ],
      "metadata": {
        "colab": {
          "base_uri": "https://localhost:8080/"
        },
        "id": "hyrcsuF-K6QU",
        "outputId": "88712eda-62a3-4b88-8d21-b075bbb1b8ea"
      },
      "execution_count": null,
      "outputs": [
        {
          "output_type": "stream",
          "name": "stdout",
          "text": [
            "     Produto  Quantidade\n",
            "0  Produto A        1709\n",
            "1  Produto B        1572\n",
            "2  Produto C        1327\n"
          ]
        }
      ]
    },
    {
      "cell_type": "code",
      "source": [
        "#TODO Identificar os meses de pico de vendas.\n",
        "\n",
        "df['Mes'] = df['Data'].dt.strftime('%y-%m')\n",
        "\n",
        "total_vendas_mensal = df.groupby('Mes')['Quantidade'].sum().reset_index()\n",
        "\n",
        "meses_de_pico = total_vendas_mensal[total_vendas_mensal['Quantidade'] == total_vendas_mensal['Quantidade'].max()]\n",
        "\n",
        "print(meses_de_pico)"
      ],
      "metadata": {
        "colab": {
          "base_uri": "https://localhost:8080/"
        },
        "id": "45N9s-VoWZI1",
        "outputId": "d5a21469-569e-4c56-fb36-36f5d4afdd0d"
      },
      "execution_count": null,
      "outputs": [
        {
          "output_type": "stream",
          "name": "stdout",
          "text": [
            "      Mes  Quantidade\n",
            "10  22-11         579\n"
          ]
        }
      ]
    }
  ]
}